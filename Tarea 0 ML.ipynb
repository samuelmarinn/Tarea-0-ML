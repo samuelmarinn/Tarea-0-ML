{
 "cells": [
  {
   "cell_type": "markdown",
   "metadata": {},
   "source": [
    "<img src=\"http://www.exalumnos.usm.cl/wp-content/uploads/2015/06/Isotipo-Negro.gif\" title=\"Title text\" width=\"20%\" height=\"20%\" />\n",
    "\n",
    "\n",
    "<hr style=\"height:2px;border:none\"/>\n",
    "<h1 align='center'> INF-393 Máquinas de Aprendizaje II-2019 </h1>\n",
    "\n",
    "<H3 align='center'> Tarea 0 - Introducción a Máquinas de Aprendizaje </H3>\n",
    "<hr style=\"height:2px;border:none\"/>\n",
    "\n",
    "**Temas**  \n",
    "* Introducción a librerías comunes de *Machine Learning*:\n",
    "    * Pandas\n",
    "    * Numpy\n",
    "    * Sklearn\n",
    "    * Matplotlib\n",
    "    * Otro..\n",
    "* Implementación de Perceptrón y variantes.\n",
    "* Implementación de método aprendizaje online (Gradiente descendente).\n",
    " \n",
    "\n",
    "** Formalidades **  \n",
    "* Equipos de trabajo de: 2 personas\n",
    "* Se debe preparar un (breve) Jupyter/IPython notebook que explique la actividad realizada y las conclusiones del trabajo\n",
    "* Fecha de entrega: 6 de Septiembre.\n",
    "* Formato de entrega: envı́o de link Github al correo electrónico del ayudante (*<francisco.mena.13@sansano.usm.cl>*) , incluyendo al profesor en copia (*<jnancu@inf.utfsm.cl>*). Por favor especificar el siguiente asunto: [Tarea0-INF393-II-2019]\n",
    "\n",
    "<hr style=\"height:2px;border:none\"/>\n",
    "\n",
    "La tarea se divide en secciones:\n",
    "\n",
    "[1.](#primero) Perceptrón a mano\n",
    "\n",
    "<hr style=\"height:2px;border:none\"/>"
   ]
  },
  {
   "cell_type": "markdown",
   "metadata": {},
   "source": [
    "<a id=\"primero\"></a>\n",
    "## 1. Perceptrón a mano\n",
    "\n",
    "<img src=\"https://miro.medium.com/max/1838/1*n6sJ4yZQzwKL9wnF5wnVNg.png\" width=\"40%\"  />\n",
    "\n",
    "En esta sección se le pedirá que implemente el algoritmo online del *perceptrón* [[2]](#refs) para aprender una función de separación lineal en un problema de clasificación binaria (0 o 1) a través de la función de *treshold*. Un algoritmo online, como el caso del *perceptrón*, aprende de una instancia de dato a la vez $(x^{(i)},y^{(i)})$, dentro de un conjunto de datos $\\{(x^{(1)},y^{(1)}), (x^{(2)},y^{(2)}), \\ldots, (x^{(N)},y^{(N)})  \\}$, donde la predicción de la clase para cada instancia es través de la función de *treshold*:\n",
    "\n",
    "$$\n",
    "\\hat{y_i} = f(x^{(i)};w,b) = \\left\\{ \\begin{array}{lc}\n",
    "       1 &  si \\ \\sum_j w_j \\cdot x^{(i)}_j +b \\geq \\theta \\\\\n",
    "       0 &  si \\ \\sum_j w_j \\cdot x^{(i)}_j +b < \\theta\n",
    "     \\end{array} \\right.\n",
    "$$\n",
    "\n",
    "\n",
    "Donde $\\theta = 0$. Recordar que el *bias* $b$ se puede incluir dentro de los pesos/parámetros $w$ si se agrega una columna extra de 1's a los datos de entrada $x$ (*como se ve en la imagen anterior*). \n",
    "\n",
    "Para lo que sigue de la actividad sólo podrá utilizar *numpy* (para operaciones de algebra lineal).\n",
    "\n",
    "> a) Escriba una función que calcule el valor de salida (*output*) del modelo $f(x)$ para un patrón de entrada $x$ a través de los pesos $w$ del modelo. *Decida si incluir los bias dentro de $w$ o manejarlos de manera separada*.\n",
    "\n",
    "> b) Escriba una función que implemente el clásico algoritmo del **Perceptrón** para un problema binario que permita entrenarlo en un conjunto de datos de tamaño $N$, leídos de manera *online* (uno a uno). *Recordar la decisión anterior sobre los bias*.\n",
    "\n",
    "> c) Demuestre que lo implementado funciona en un problema real de clasificación. Para esto utilice el dataset **Breast cancer wisconsin**, disponible a través de la librería __[*sklearn*](http://scikit-learn.org)__, el cual corresponde a la detección de cancer mamario a través de características relevantes (numéricas continuas) de un examen realizado, como por ejemplo la textura, simetría y tamaño de una masa mamaria. Estas características deben combinarse linealmente para la detección del cancer.\n",
    "> <div class=\"alert alert-block alert-info\">Es una buena práctica el normalizar los datos antes de trabajar con el modelo</div>\n",
    "```python\n",
    "from sklearn.datasets import load_breast_cancer\n",
    "X_train,y_train = load_breast_cancer(return_X_y=True)\n",
    "scaler = StandardScaler().fit(X_train)\n",
    "X_train = scaler.transform(X_train)\n",
    "X_train = np.c_[X_train, np.ones(N) ] #add columns of 1's if you want\n",
    "```\n",
    "Para evaluar los resultados mida la exactitud (*accuracy*) de la clasificación durante el entrenamiento (por cada iteración/instancia/dato) y grafique, utilice el conjunto de entrenamiento realizando una sola pasada (el objetivo de esta sección es familiarizarse con el algoritmo). Además reporte el tiempo de entrenamiento mediante el algoritmo implementado.\n",
    "\n",
    "> d) Escriba una función que implemente el **Forgetrón** [[3]](#refs) con una memoria de tamaño $K$ y la función de kernel como el producto interno (*inner-product*), esto es $<a,b> = \\sum_i a_i \\cdot b_i$.\n",
    "\n",
    "> e) Vuelva a realizar el item c) para el **Forgetrón** con un $K=10$ y compare los resultados.\n",
    "\n",
    "\n",
    "### ¿Qué sucede al variar la función objetivo del problema? \n",
    "Si utilizáramos la función de pérdida *binary cross entropy*, que castiga de manera suave los valores en que se equivoca el modelo a través de que el valor de salida sea una confiabilidad $g(x; w,b) \\in [0,1]$.\n",
    "$$\n",
    "\\ell (y, \\ g(x;w,b)) = - y \\cdot \\log{(g(x;w,b))} - (1-y) \\cdot \\log{(1-g(x;w,b))}\n",
    "$$\n",
    "\n",
    "Realice una modificación al perceptrón para que entregue como salida una confiabilidad continua entre 0 y 1. Una buena aproximación de la función *treshold* (con $\\theta=0$) del perceptrón es la función sigmoidal.\n",
    "\n",
    "<img src=\"https://i.imgur.com/lr6F3Ur.png\" width=\"60%\"  />\n",
    "\n",
    "Ésto sería modelar el perceptrón como:\n",
    "$$\n",
    "g(x^{(i)};w,b) = p(y=1|x^{(i)}) = \\sigma \\left( \\sum_j w_j \\cdot x^{(i)}_j +b \\right)\n",
    "$$\n",
    "\n",
    "Con $\\sigma$ la función sigmoidal de la forma $\\sigma(\\xi) = 1/(1+e^{-\\xi}) $, la cual tiene una derivada cíclica que hace más fácil el cálculo: $\\sigma'(\\xi) = \\sigma(\\xi) (1-\\sigma(\\xi))$\n",
    "\n",
    "> f) Escriba una función que compute la función sigmoidal para una entrada $\\xi$ cualquiera. *Tenga cuidado con los límites de números que puede trabajar python (por ejemplo $\\exp{800}\\rightarrow +\\infty$)*. *Se aconseja acotar/truncar los valores que entran a la función para que la operación se pueda realizar*. Además escriba una función que calcule la salida del nuevo modelo $g(x; w,b)$ con esta función sigmoidal.\n",
    "\n",
    "> g) Escriba una función que calcule la función de pérdida descrita anteriormente para un dato $x^{(i)}$, utilizando $g(x^{(i)};w,b)$. *Tenga cuidado con los límites del logaritmo (recordad que $\\log{0}\\rightarrow +\\infty$)*.\n",
    "\n",
    "> h) Escriba una función que calcule el gradiente (derivada) de la función de pérdida anterior con respecto a los pesos del modelo $w$. *Se recomienda derivarla analíticamente y luego escribirla*. *Recuerde el uso de la regla de la cadena*.\n",
    "\n",
    "> i) Realice una modificación al algoritmo implementado en b) (**Perceptrón**) para que se adapte a la función objetivo *binary cross entropy* implementada, para ésto haga uso del algoritmo de optimización SGD [[4]](#refs) (*Stochastic Gradient Descend*) con tasa de aprendizaje $\\eta \\in [0,1]$.\n",
    "\n",
    "$$ \\vec{w}^{(t+1)} \\leftarrow \\vec{w}^{(t)} - \\eta \\cdot \\nabla_{\\vec{w}^{(t)}} \\ell $$\n",
    "\n",
    "> j) Vuelva a realizar el item c) con esta modificación, además grafique la función de pérdida en el transcurso del entrenamiento. Compare los resultados."
   ]
  },
  {
   "cell_type": "markdown",
   "metadata": {},
   "source": [
    "<H3> Breve explicación de la tarea: </H3>\n",
    "\n",
    "En esta tarea se trabaja con el algoritmo del perceptrón, el cual realiza una clasificación binaria de forma lineal. En primer lugar, se implementó este algoritmo de forma completamente manual, para luego graficar el error obtenido para cada uno de los ejemplos de aprendizaje utilizados, luego, se implementó una variante del algoritmo de perceptrón clásico en la que se introdujo un kernel de tamaño fijo que almacenara una cantidad de los ejemplos de aprendizaje, para en base a estos calcular la función clasificadora, utilizando además en este proceso una función de kernel, que en este caso fue el producto punto, graficando nuevamente los errores de entrenamiento obtenidos en este caso, finalmente, se implementó una segunda variante, la cual en este caso usaba la función sigmoidal para la clasificación, y la función de cross binary entropy para la pérdida, graficando también los errores."
   ]
  },
  {
   "cell_type": "code",
   "execution_count": 134,
   "metadata": {},
   "outputs": [],
   "source": [
    "import numpy as np\n",
    "from sklearn.preprocessing import StandardScaler\n",
    "from time import time\n",
    "import decimal\n",
    "import matplotlib.pyplot as plt\n",
    "\n",
    "\n",
    "#se importan las librerías a usar"
   ]
  },
  {
   "cell_type": "code",
   "execution_count": 135,
   "metadata": {},
   "outputs": [],
   "source": [
    "#definición de la función f(x) usada en el perceptrón\n",
    "\n",
    "def net_input(w, X,u):\n",
    "        \"\"\"Calcular el valor z (net input)\"\"\"\n",
    "        # z = w · x + theta\n",
    "        z = np.dot(X, w) - u\n",
    "        if (z>0):\n",
    "            return 1\n",
    "        else:\n",
    "            return 0\n",
    "    \n",
    "\n",
    " "
   ]
  },
  {
   "cell_type": "code",
   "execution_count": 136,
   "metadata": {},
   "outputs": [],
   "source": [
    "#definición de perceptrón como tal\n",
    "\n",
    "errors=[]\n",
    "\n",
    "def training(data_x,data_y,N,pas):\n",
    "    tasa=0.1\n",
    "    num=len(data_x[0])\n",
    "    weights=np.zeros((1,num))\n",
    "    umbral=0.5\n",
    "    for i in range(pas):\n",
    "        num=0\n",
    "        error=0\n",
    "        for val in data_x:\n",
    "            res=net_input(weights.transpose(),val,umbral)\n",
    "            #ver que hacer con el error\n",
    "            e=res-data_y[num]\n",
    "            if (e!=0):\n",
    "                error+=1\n",
    "                for i, valor in enumerate(val):\n",
    "                    weights[0][i] += tasa * error * valor\n",
    "                    umbral +=tasa*valor\n",
    "            errors.append(e)\n",
    "            num=num+1\n",
    "    return weights\n",
    "        \n",
    "        \n",
    "            \n",
    "    \n",
    "    "
   ]
  },
  {
   "cell_type": "code",
   "execution_count": 137,
   "metadata": {},
   "outputs": [
    {
     "data": {
      "image/png": "[encoded data removed]",
      "text/plain": [
       "<Figure size 432x288 with 1 Axes>"
      ]
     },
     "metadata": {
      "needs_background": "light"
     },
     "output_type": "display_data"
    },
    {
     "name": "stdout",
     "output_type": "stream",
     "text": [
      "El tiempo de ejecucion fue: 0.0049860477447509766\n"
     ]
    }
   ],
   "source": [
    "#se entrena el perceptrón con los datos indicados\n",
    "\n",
    "\n",
    "errors=[]\n",
    "\n",
    "from sklearn.datasets import load_breast_cancer \n",
    "X_train,Y_train = load_breast_cancer(return_X_y=True) \n",
    "scaler = StandardScaler().fit(X_train) \n",
    "X_train = scaler.transform(X_train) \n",
    "\n",
    "\n",
    "tiempo_inicial = time() \n",
    "ret=training(X_train,Y_train,len(X_train),1)\n",
    "tiempo_final = time() \n",
    "\n",
    "\n",
    "\n",
    "\n",
    "# Graficamos el si el perceprtón entrega el valor correcto en cada iteración\n",
    "plt.plot(range(1, len(errors) + 1), errors, marker='o')\n",
    "plt.xlabel('Número de dato')\n",
    "plt.ylabel('error')\n",
    "plt.tight_layout()\n",
    "plt.show()\n",
    "\n",
    "tiempo_ejecucion = tiempo_final - tiempo_inicial \n",
    "print ('El tiempo de ejecucion fue:',tiempo_ejecucion) #En segundos\n",
    " "
   ]
  },
  {
   "cell_type": "code",
   "execution_count": 138,
   "metadata": {},
   "outputs": [],
   "source": [
    "#definición de función clasificadora\n",
    "\n",
    "def classi(a, X,Y,z,start):\n",
    "    res=0\n",
    "    s=start\n",
    "    for i,xi in enumerate(X):\n",
    "        suma=a[i]*Y[s]*np.dot(xi,z)\n",
    "        res+=suma\n",
    "        s+=1\n",
    "    return np.sign(res)\n",
    "\n",
    "\n",
    "#definición de forgetrón como tal\n",
    "\n",
    "errors=[]\n",
    "\n",
    "def forget(data_x,data_y,pas,K):\n",
    "    tasa=0.1\n",
    "    alphas=np.zeros((1,K))\n",
    "    ex=[]\n",
    "    for i in range(pas):\n",
    "        num=0\n",
    "        pos=0\n",
    "        error=0\n",
    "        ini_y=0\n",
    "        for indice,val in enumerate(data_x):\n",
    "            res=classi(alphas[0],ex,data_y,val,ini_y)\n",
    "            #ver que hacer con el error\n",
    "            e=np.sign(res-data_y[num])\n",
    "            if (indice>K-1):\n",
    "                ini_y+=1\n",
    "            if (pos==K):\n",
    "                pos=0\n",
    "            if (len(ex)==K):\n",
    "                ex[pos]=val\n",
    "            else:\n",
    "                ex.append(val)\n",
    "            if (res!=data_y[num]):\n",
    "                error+=1\n",
    "                alphas[0][pos]+=1\n",
    "            errors.append(e)\n",
    "            num=num+1\n",
    "            pos+=1\n",
    "    para=[alphas,ex]\n",
    "    return para\n"
   ]
  },
  {
   "cell_type": "code",
   "execution_count": 139,
   "metadata": {},
   "outputs": [
    {
     "data": {
      "image/png": "[encoded data removed]",
      "text/plain": [
       "<Figure size 432x288 with 1 Axes>"
      ]
     },
     "metadata": {
      "needs_background": "light"
     },
     "output_type": "display_data"
    },
    {
     "name": "stdout",
     "output_type": "stream",
     "text": [
      "El tiempo de ejecucion fue: 0.013962984085083008\n"
     ]
    }
   ],
   "source": [
    "#uso de datos con forgetron, con kernel de tamaño 10\n",
    "\n",
    "errors=[]\n",
    "\n",
    "\n",
    "tiempo_inicial = time() \n",
    "ret=forget(X_train,Y_train,1,10)\n",
    "tiempo_final = time() \n",
    "\n",
    "# Graficamos el error obtenido en cada iteración del forgetron\n",
    "plt.plot(range(1, len(errors) + 1), errors, marker='o')\n",
    "plt.xlabel('Número de dato')\n",
    "plt.ylabel('error')\n",
    "plt.tight_layout()\n",
    "plt.show()\n",
    "\n",
    "tiempo_ejecucion = tiempo_final - tiempo_inicial \n",
    "print ('El tiempo de ejecucion fue:',tiempo_ejecucion) #En segundos"
   ]
  },
  {
   "cell_type": "markdown",
   "metadata": {},
   "source": [
    "Contrario de lo que se podría pensar, se observan más errores que en la implementación normal de un perceptrón, lo que puede deberse a la falta de mayor cantidad de datos para entrenar el learner, el tamaño del kernel, o la función de kernel elegida en este caso."
   ]
  },
  {
   "cell_type": "code",
   "execution_count": 140,
   "metadata": {},
   "outputs": [],
   "source": [
    "#definicion de sigmoidal y de g(x;w,b)\n",
    "def sigmoid(x):\n",
    "    if (x<-709):\n",
    "        return 0\n",
    "    elif (isinstance(x, np.ndarray)):\n",
    "        return 1 / (1 + decimal.Decimal(np.exp(-x[0])))\n",
    "    else:\n",
    "        return 1 / (1 + decimal.Decimal(np.exp(-x))) \n",
    "\n",
    "def g(x,w,b):\n",
    "    return sigmoid((np.dot(w,x)+b))\n",
    "\n",
    "\n"
   ]
  },
  {
   "cell_type": "code",
   "execution_count": 141,
   "metadata": {},
   "outputs": [],
   "source": [
    "#def de función de pérdida\n",
    "def perdida(y,x,w,b):\n",
    "    a=0\n",
    "    if (g(x,w,b)<np.float_power(10,-323)):\n",
    "        a=(np.float_power(10,-323)).ln()\n",
    "    else:\n",
    "        a=-y*(g(x,w,b)).ln()\n",
    "    c=(1-y)*(1-g(x,w,b)).ln()\n",
    "    return (a-c)\n",
    "\n",
    "\n",
    "\n",
    "    "
   ]
  },
  {
   "cell_type": "code",
   "execution_count": 142,
   "metadata": {},
   "outputs": [],
   "source": [
    "#gradiente\n",
    "\n",
    "\n",
    "def dg(x,w,b):\n",
    "    one=sigmoid((np.dot(w,x)+b))\n",
    "    two=decimal.Decimal(1-one)\n",
    "    three=decimal.Decimal(np.sum(x))\n",
    "    return one*two*three\n",
    "\n",
    "def gradperd(y,x,w,b):\n",
    "    d=-decimal.Decimal(y*(1/g(x,w,b)))*dg(x,w,b)\n",
    "    c=decimal.Decimal((1-y)*(1/(decimal.Decimal(1-g(x,w,b)))))*dg(x,w,b)\n",
    "    return c+d\n",
    "\n",
    "\n",
    "\n"
   ]
  },
  {
   "cell_type": "code",
   "execution_count": 143,
   "metadata": {},
   "outputs": [],
   "source": [
    "#se modfica el perceptron para incorporar funciones definidas anteriormente\n",
    "\n",
    "errors=[]\n",
    "\n",
    "def new_training(data_x,data_y,N,pas):\n",
    "    tasa=0.1\n",
    "    num=len(data_x[0])\n",
    "    weights=np.zeros((1,num))\n",
    "    umbral=0.5\n",
    "    for i in range(pas):\n",
    "        num=0\n",
    "        for val in data_x:\n",
    "            res=g(val,weights,umbral)\n",
    "            e=perdida(data_y[num],val,weights,umbral)\n",
    "            if (e!=0):\n",
    "                for i, valor in enumerate(val):\n",
    "                    weights[0][i] -= float(decimal.Decimal(tasa) *gradperd(data_y[num],valor,weights[0][i],umbral))\n",
    "            errors.append(e)\n",
    "            num=num+1\n",
    "    return weights"
   ]
  },
  {
   "cell_type": "code",
   "execution_count": 144,
   "metadata": {},
   "outputs": [
    {
     "data": {
      "image/png": "[encoded data removed]",
      "text/plain": [
       "<Figure size 432x288 with 1 Axes>"
      ]
     },
     "metadata": {
      "needs_background": "light"
     },
     "output_type": "display_data"
    },
    {
     "name": "stdout",
     "output_type": "stream",
     "text": [
      "El tiempo de ejecucion fue: 1.160977840423584\n"
     ]
    }
   ],
   "source": [
    "#se entrena la modificacion del perceptrón con los datos indicados\n",
    "\n",
    "\n",
    "\n",
    "errors=[]\n",
    "\n",
    "tiempo_inicial = time() \n",
    "ret=new_training(X_train,Y_train,len(X_train),1)\n",
    "tiempo_final = time() \n",
    "\n",
    "# Graficamos el número de errores en cada iteración\n",
    "plt.plot(range(1, len(errors) + 1), errors, marker='o')\n",
    "plt.xlabel('Número de dato')\n",
    "plt.ylabel('f(x)')\n",
    "plt.tight_layout()\n",
    "plt.show()\n",
    "\n",
    "tiempo_ejecucion = tiempo_final - tiempo_inicial \n",
    "print ('El tiempo de ejecucion fue:',tiempo_ejecucion) #En segundos\n",
    " "
   ]
  },
  {
   "cell_type": "markdown",
   "metadata": {},
   "source": [
    "En comparación con las pérdidas obtenidas para el perceptrón original, se observa que hay más predicciones correctas, representadas como una pérdida de cero, además, se observa que, en el caso de la segunda implementación del perceptrón, hay errores que sobrepasan 0, lo que tiene relación con la forma en que se calculan estos, ya que esto perite tener valores de pérdida entre 0 e infinito, mientras más lejos se esté del 0, más erróneo es el valor obtenido por la función de clasificación, lo que difiere de la forma en que se calculaba el error en el primer caso, ya que éste se calculó de forma discreta, es decir, 1 o -1 representaba error, siendo el primer caso obtener q y que la etiqueta real sea 0, y el segundo el contrario. En conclusión, la segunda implementación resulta ser mejor a la primera. "
   ]
  },
  {
   "cell_type": "markdown",
   "metadata": {},
   "source": [
    "<H3> Conclusión: </H3>\n",
    "\n",
    "En conclusión, el algoritmo clásico del perceptrón, a pesar de ser relativamente sencillo, es fundamental en el área de las máquinas de aprendizaje, entregando al inicio de su entrenamiento gran cantidad de errores, los que disminuyen considerablemente en el tiempo de acuerdo a la cantidad de datos disponibles para entrenarlo, lo que permite que éste tenga una certeza bastante alta. Además, es posible mejorar este algoritmo mediante cambios de distinta naturaleza, siendo uno de estos la inclusión de una diferente función objetivo , y, por consiguiente, de pérdida, aumentando con esto la capacidad de clasificación del algoritmo clásico del perceptrón; otro cambio posible incluye la inserción de un kernel y una función de kernel en la función clasificadora, sin embargo, en este caso se debe tener mucho cuidado en la función de kernel utilizada, ya que esto podría provocar un mal resultado en la forma de clasificar."
   ]
  },
  {
   "cell_type": "markdown",
   "metadata": {},
   "source": [
    "<a id=\"refs\"></a>\n",
    "### Referencias\n",
    "[1] Hastie, T.; Tibshirani, R., Friedman, J. (2009), *The Elements of Statistical Learning*, Second Edition.\n",
    "Springer New York Inc.  \n",
    "[2] STEPHEN, I. (1990). *Perceptron-based learning algorithms*. IEEE Transactions on neural networks, 50(2), 179.  \n",
    "[3] Dekel, O., Shalev-Shwartz, S., & Singer, Y. (2006). *The Forgetron: A kernel-based perceptron on a fixed budget*. In Advances in neural information processing systems (pp. 259-266).  \n",
    "[4] Ruder, S. (2016). *An overview of gradient descent optimization algorithms*. arXiv preprint arXiv:1609.04747.  "
   ]
  }
 ],
 "metadata": {
  "kernelspec": {
   "display_name": "Python 3",
   "language": "python",
   "name": "python3"
  },
  "language_info": {
   "codemirror_mode": {
    "name": "ipython",
    "version": 3
   },
   "file_extension": ".py",
   "mimetype": "text/x-python",
   "name": "python",
   "nbconvert_exporter": "python",
   "pygments_lexer": "ipython3",
   "version": "3.7.3"
  }
 },
 "nbformat": 4,
 "nbformat_minor": 2
}
